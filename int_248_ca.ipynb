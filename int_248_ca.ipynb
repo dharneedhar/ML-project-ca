{
  "nbformat": 4,
  "nbformat_minor": 0,
  "metadata": {
    "colab": {
      "name": "int 248 ca.ipynb",
      "provenance": [],
      "collapsed_sections": [],
      "authorship_tag": "ABX9TyMwQ76BWNPkHkhZLWmHSpm6",
      "include_colab_link": true
    },
    "kernelspec": {
      "name": "python3",
      "display_name": "Python 3"
    },
    "language_info": {
      "name": "python"
    }
  },
  "cells": [
    {
      "cell_type": "markdown",
      "metadata": {
        "id": "view-in-github",
        "colab_type": "text"
      },
      "source": [
        "<a href=\"https://colab.research.google.com/github/dharneedhar/ML-project-ca/blob/main/int_248_ca.ipynb\" target=\"_parent\"><img src=\"https://colab.research.google.com/assets/colab-badge.svg\" alt=\"Open In Colab\"/></a>"
      ]
    },
    {
      "cell_type": "code",
      "metadata": {
        "id": "ksl3Sakbqs-e"
      },
      "source": [
        "import pathlib\n",
        "import random\n",
        "import string\n",
        "import re\n",
        "import numpy as np\n",
        "import tensorflow as tf\n",
        "from tensorflow import keras\n",
        "from tensorflow.keras import layers\n",
        "from tensorflow.keras.layers import TextVectorization\n",
        "\n"
      ],
      "execution_count": null,
      "outputs": []
    },
    {
      "cell_type": "code",
      "metadata": {
        "id": "YAicHK5Kq4or"
      },
      "source": [
        "pip install translate"
      ],
      "execution_count": null,
      "outputs": []
    },
    {
      "cell_type": "code",
      "metadata": {
        "id": "Afs94OvurFKZ"
      },
      "source": [
        "from tkinter import *\n",
        "from translate import Translator\n"
      ],
      "execution_count": null,
      "outputs": []
    },
    {
      "cell_type": "code",
      "metadata": {
        "id": "QdVj1VaqrH3v"
      },
      "source": [
        "Screen = tk();\n",
        "Screen.title(\"Language Translator with GUI \")\n",
        " \n",
        " inputLanguageChoice = StringVar()\n",
        "TranslateLanguageChoice = StringVar()"
      ],
      "execution_count": null,
      "outputs": []
    },
    {
      "cell_type": "code",
      "metadata": {
        "id": "yUw0qAXp3nbM"
      },
      "source": [
        "LanguageChoices = {'Hindi','English','French','German','Spanish'}\n",
        "InputLanguageChoice.set('English')\n",
        "TranslateLanguageChoice.set('Hindi')"
      ],
      "execution_count": null,
      "outputs": []
    },
    {
      "cell_type": "code",
      "metadata": {
        "id": "_e9qxWoGrnMR"
      },
      "source": [
        "\n",
        "def Translate():\n",
        "    translator = Translator(from_lang= InputLanguageChoice.get(),to_lang=TranslateLanguageChoice.get())\n",
        "    Translation = translator.translate(TextVar.get())\n",
        "    OutputVar.set(Translation)"
      ],
      "execution_count": null,
      "outputs": []
    },
    {
      "cell_type": "code",
      "metadata": {
        "id": "e9K0a6zjrqYX"
      },
      "source": [
        "#choice for input language\n",
        "InputLanguageChoiceMenu = OptionMenu(Screen,InputLanguageChoice,*LanguageChoices)\n",
        "Label(Screen,text=\"Choose a Language\").grid(row=0,column=1)\n",
        "InputLanguageChoiceMenu.grid(row=1,column=1)\n",
        "\n",
        "#choice in which the language is to be translated\n",
        "NewLanguageChoiceMenu = OptionMenu(Screen,TranslateLanguageChoice,*LanguageChoices)\n",
        "Label(Screen,text=\"Translated Language\").grid(row=0,column=2)\n",
        "NewLanguageChoiceMenu.grid(row=1,column=2)"
      ],
      "execution_count": null,
      "outputs": []
    },
    {
      "cell_type": "code",
      "metadata": {
        "id": "_fXtaDYFr_3q"
      },
      "source": [
        "Label(Screen,text=\"Enter Text\").grid(row=2,column =0)\n",
        "TextVar = StringVar()\n",
        "TextBox = Entry(Screen,textvariable=TextVar).grid(row=2,column = 1)\n",
        " \n",
        "Label(Screen,text=\"Output Text\").grid(row=2,column =2)\n",
        "OutputVar = StringVar()\n",
        "TextBox = Entry(Screen,textvariable=OutputVar).grid(row=2,column = 3)\n",
        " \n",
        "#Button for calling function\n",
        "B = Button(Screen,text=\"Translate\",command=Translate, relief = GROOVE).grid(row=3,column=1,columnspan = 3)\n",
        " \n",
        "mainloop()"
      ],
      "execution_count": null,
      "outputs": []
    }
  ]
}